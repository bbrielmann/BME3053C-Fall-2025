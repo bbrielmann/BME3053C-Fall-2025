{
  "cells": [
    {
      "cell_type": "markdown",
      "metadata": {
        "id": "view-in-github",
        "colab_type": "text"
      },
      "source": [
        "<a href=\"https://colab.research.google.com/github/bbrielmann/BME3053C-Fall-2025/blob/main/lessons-solved/homework_2.ipynb\" target=\"_parent\"><img src=\"https://colab.research.google.com/assets/colab-badge.svg\" alt=\"Open In Colab\"/></a>"
      ]
    },
    {
      "cell_type": "code",
      "source": [
        "bp_readings = [120, 137, 151, 123, 162, 173, 127, 154]\n",
        "\n",
        "def normalize_bp(bp_readings):\n",
        "    normalized_readings = []\n",
        "    min_value = min(bp_readings)\n",
        "    max_value = max(bp_readings)\n",
        "    for x in bp_readings:\n",
        "        normalized_value = (x - min_value) / (max_value - min_value)\n",
        "        normalized_readings.append(normalized_value)\n",
        "    return normalized_readings\n",
        "\n",
        "normalize_bp = normalize_bp(bp_readings)\n",
        "print(\"Normalized BP readings:\", normalize_bp)"
      ],
      "metadata": {
        "id": "OiL5-SpC3wn6",
        "outputId": "80f193f0-5c62-498f-8ceb-127c88c31f98",
        "colab": {
          "base_uri": "https://localhost:8080/"
        }
      },
      "id": "OiL5-SpC3wn6",
      "execution_count": 7,
      "outputs": [
        {
          "output_type": "stream",
          "name": "stdout",
          "text": [
            "Normalized BP readings: [0.0, 0.32075471698113206, 0.5849056603773585, 0.05660377358490566, 0.7924528301886793, 1.0, 0.1320754716981132, 0.6415094339622641]\n"
          ]
        }
      ]
    }
  ],
  "metadata": {
    "kernelspec": {
      "display_name": ".venv",
      "language": "python",
      "name": "python3"
    },
    "language_info": {
      "codemirror_mode": {
        "name": "ipython",
        "version": 3
      },
      "file_extension": ".py",
      "mimetype": "text/x-python",
      "name": "python",
      "nbconvert_exporter": "python",
      "pygments_lexer": "ipython3",
      "version": "3.10.12"
    },
    "colab": {
      "provenance": [],
      "include_colab_link": true
    }
  },
  "nbformat": 4,
  "nbformat_minor": 5
}